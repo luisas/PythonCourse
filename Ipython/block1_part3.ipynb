{
 "cells": [
  {
   "cell_type": "code",
   "execution_count": 10,
   "metadata": {},
   "outputs": [],
   "source": [
    "import re\n",
    "def calculate_aminoacid_frequencies(fasta_filename,subsequences_filename,number_of_repetitions,\n",
    "                                 output_filename):\n",
    "       \n",
    "    # Extract the subsequences\n",
    "    subsequences = {}\n",
    "    with open(subsequences_filename, \"r\") as f:\n",
    "        for line in f: \n",
    "            subsequences.setdefault(line.strip(), 0)\n",
    "    f.close()\n",
    "\n",
    "    max_len_sub = len(max(subsequences , key=lambda t:len(t)))\n",
    "    # Go through fasta file\n",
    "    sequence =\"\"\n",
    "    nr_proteins =1 \n",
    "    with open(fasta_filename, \"r\") as f:\n",
    "        next(f)\n",
    "        for line in f: \n",
    "            if line.startswith(\">\"): \n",
    "                for sub in subsequences:\n",
    "                    if(len(re.findall('(?='+sub+')',sequence)) >= number_of_repetitions ): subsequences[sub] += 1\n",
    "                nr_proteins +=1\n",
    "                sequence =\"\"\n",
    "            else:\n",
    "                sequence += line.strip()\n",
    "        f.close()\n",
    "    \n",
    "    #Save last protein \n",
    "    for sub in subsequences:\n",
    "        if(sequence.count(sub) > number_of_repetitions ): subsequences[sub] += 1\n",
    "\n",
    "    # Sort & Writing\n",
    "    out = open(output_filename, \"w\")\n",
    "    out.write('{:<30s}{:>8s}\\n'.format('#Number of proteins:',str(nr_proteins)))\n",
    "    out.write('{:<30s}{:>8s}\\n'.format('#Number of subsequences:',str(len(subsequences))))\n",
    "    out.write(\"#subsequence proportions:\\n\")\n",
    "    for sub_tuple in sorted(subsequences.items(), key=lambda item: item[1] , reverse=True) :\n",
    "        out.write(\"{:s}\\t{:>10d}\\t{:>.4f}\\n\".format(sub_tuple[0], sub_tuple[1],sub_tuple[1]/nr_proteins))\n",
    "    out.close()       "
   ]
  },
  {
   "cell_type": "code",
   "execution_count": 11,
   "metadata": {},
   "outputs": [],
   "source": [
    "#subsequences_filename = \"/Users/luisasantus/Desktop/PYT/PythonCourse/data/subsequences.txt\"\n",
    "#fasta_filename = \"/Users/luisasantus/Desktop/PYT/PythonCourse/data/example.fasta\"\n",
    "#output_filename=\"/Users/luisasantus/Desktop/PYT/PythonCourse/data/example_res3.fasta\"\n",
    "#number_of_repetitions = 5\n",
    "#calculate_aminoacid_frequencies(fasta_filename,subsequences_filename,number_of_repetitions,\n",
    "#                                 output_filename)"
   ]
  }
 ],
 "metadata": {
  "kernelspec": {
   "display_name": "Python 3",
   "language": "python",
   "name": "python3"
  },
  "language_info": {
   "codemirror_mode": {
    "name": "ipython",
    "version": 3
   },
   "file_extension": ".py",
   "mimetype": "text/x-python",
   "name": "python",
   "nbconvert_exporter": "python",
   "pygments_lexer": "ipython3",
   "version": "3.6.5"
  }
 },
 "nbformat": 4,
 "nbformat_minor": 2
}
