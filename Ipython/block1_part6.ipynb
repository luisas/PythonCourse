{
 "cells": [
  {
   "cell_type": "code",
   "execution_count": 9,
   "metadata": {},
   "outputs": [],
   "source": [
    "#pdb_file_path = \"/Users/luisasantus/Desktop/PYT/PythonCourse/data/1tim.pdb\"\n",
    "#pdb_file_path = \"/Users/luisasantus/Desktop/PYT/PythonCourse/data/6a6q.pdb\"\n",
    "#pdb_file_path = \"/Users/luisasantus/Desktop/PYT/PythonCourse/data/4y5r.pdb\""
   ]
  },
  {
   "cell_type": "code",
   "execution_count": 10,
   "metadata": {},
   "outputs": [],
   "source": [
    "from statistics import *\n",
    "import math"
   ]
  },
  {
   "cell_type": "code",
   "execution_count": 11,
   "metadata": {},
   "outputs": [],
   "source": [
    "def calc_chain_medium(list_of_sets_of_coordinates):\n",
    "    min_distances = []\n",
    "    for index1 in range(0,len(list_of_sets_of_coordinates)):\n",
    "        for index2 in range(0,len(list_of_sets_of_coordinates)):\n",
    "            if index1 != index2:\n",
    "                min_distance= calc_min_distance(list_of_sets_of_coordinates[index1],list_of_sets_of_coordinates[index2])\n",
    "                min_distances.append(min_distance)\n",
    "    return mean(min_distances)"
   ]
  },
  {
   "cell_type": "code",
   "execution_count": 12,
   "metadata": {},
   "outputs": [],
   "source": [
    "\n",
    "def eucledian_distance(c1,c2):\n",
    "    #c1 = (x1,y1,z1)\n",
    "    #c2 = (x2,y2,z2)\n",
    "    return(math.sqrt(sum([(a - b) ** 2 for a, b in zip(c1, c2)])))\n",
    "    "
   ]
  },
  {
   "cell_type": "code",
   "execution_count": 13,
   "metadata": {},
   "outputs": [],
   "source": [
    "def calc_min_distance(set_1,set_2):\n",
    "    min_distance = float(\"inf\")\n",
    "    for triple1 in set_1: \n",
    "        for triple2 in set_2:\n",
    "            calculated_distance = eucledian_distance(triple1,triple2)\n",
    "            if calculated_distance < min_distance: \n",
    "                min_distance = calculated_distance\n",
    "    return min_distance"
   ]
  },
  {
   "cell_type": "code",
   "execution_count": 14,
   "metadata": {},
   "outputs": [],
   "source": [
    "\n",
    "def calculate_pdb_chain_mean_minimum_distances(pdb_file_path):\n",
    "    file = open(pdb_file_path, \"r\")\n",
    "    #TODO: save everythin\n",
    "    current_nr_res = 0\n",
    "    current_chain = \"\"\n",
    "    current_set_coordinates = set()\n",
    "    list_of_sets_of_coordinates= []\n",
    "    dict_res= {}\n",
    "    for line in file: \n",
    "        if line.startswith(\"ATOM\"):\n",
    "            splitted_line = [line[:6], line[6:11], line[12:16], line[17:20], line[21], line[22:26], line[30:38], line[38:46], line[46:54]]\n",
    "            chain = splitted_line[4]\n",
    "            nr_res = splitted_line[5].strip()\n",
    "            coordinates = (float(splitted_line[6]), float(splitted_line[7]), float(splitted_line[8]))\n",
    "\n",
    "            # Only true in first case\n",
    "            if current_chain is \"\" : current_chain = chain  \n",
    "            if current_nr_res is 0 : current_nr_res = nr_res  \n",
    "\n",
    "\n",
    "            # Check if residue changed\n",
    "            if nr_res != current_nr_res: \n",
    "                list_of_sets_of_coordinates.append(current_set_coordinates)\n",
    "                current_set_coordinates = set()\n",
    "                current_nr_res = nr_res\n",
    "\n",
    "            current_set_coordinates.add((coordinates))\n",
    "\n",
    "            if current_chain is not chain:\n",
    "                    #TODO: calc min in atoms and calc med\n",
    "                    medium = calc_chain_medium(list_of_sets_of_coordinates)\n",
    "                    dict_res[current_chain] = medium\n",
    "                    list_of_sets_of_coordinates = []\n",
    "                    current_chain = chain \n",
    "\n",
    "    list_of_sets_of_coordinates.append(current_set_coordinates)   \n",
    "    medium = calc_chain_medium(list_of_sets_of_coordinates)\n",
    "    dict_res[current_chain] = medium\n",
    "    return dict_res"
   ]
  },
  {
   "cell_type": "code",
   "execution_count": 15,
   "metadata": {},
   "outputs": [
    {
     "data": {
      "text/plain": [
       "{'A': 19.498188083835668, 'B': 19.653525286155222}"
      ]
     },
     "execution_count": 15,
     "metadata": {},
     "output_type": "execute_result"
    }
   ],
   "source": [
    "#calculate_pdb_chain_mean_minimum_distances(pdb_file_path)"
   ]
  },
  {
   "cell_type": "code",
   "execution_count": null,
   "metadata": {},
   "outputs": [],
   "source": []
  },
  {
   "cell_type": "code",
   "execution_count": null,
   "metadata": {},
   "outputs": [],
   "source": []
  }
 ],
 "metadata": {
  "kernelspec": {
   "display_name": "Python 3",
   "language": "python",
   "name": "python3"
  },
  "language_info": {
   "codemirror_mode": {
    "name": "ipython",
    "version": 3
   },
   "file_extension": ".py",
   "mimetype": "text/x-python",
   "name": "python",
   "nbconvert_exporter": "python",
   "pygments_lexer": "ipython3",
   "version": "3.6.5"
  }
 },
 "nbformat": 4,
 "nbformat_minor": 2
}
