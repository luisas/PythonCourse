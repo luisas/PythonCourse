{
 "cells": [
  {
   "cell_type": "code",
   "execution_count": 1,
   "metadata": {},
   "outputs": [],
   "source": [
    "def FASTA_iterator(fasta_filename): \n",
    "    file = open(fasta_filename, \"r\")\n",
    "    sequence =\"\"\n",
    "    identifier = file.readline().replace(\">\", \"\").strip()\n",
    "    for line in file: \n",
    "        if line.startswith(\">\"):\n",
    "            yield(identifier, sequence)\n",
    "            sequence = \"\"; \n",
    "            identifier = line.replace(\">\", \"\").strip()\n",
    "        else: \n",
    "            sequence+= line.strip()\n",
    "    file.close()\n",
    "    yield(identifier, sequence)"
   ]
  },
  {
   "cell_type": "code",
   "execution_count": 2,
   "metadata": {},
   "outputs": [],
   "source": [
    "def add_list_of_set_to_frequency_count(input_list):\n",
    "    frequency= {}\n",
    "    for input_set in input_list:\n",
    "        for identifier in input_set:\n",
    "            if identifier not in frequency: \n",
    "                frequency[identifier] = 1 \n",
    "            else: \n",
    "                frequency[identifier] += 1 \n",
    "    return frequency"
   ]
  },
  {
   "cell_type": "code",
   "execution_count": 3,
   "metadata": {},
   "outputs": [],
   "source": [
    "def compare_fasta_file_identifiers(fasta_filenames_list):\n",
    "    \n",
    "    #Throw exception if input list is not containing at least one file.\n",
    "    if len(fasta_filenames_list )< 1 :\n",
    "        return \"ERROR : input list's length must be 1 or higher!\"\n",
    "    \n",
    "    #Initialize \n",
    "    result_dictionary = {}\n",
    "    list_of_set_identifiers = []\n",
    "    names = []\n",
    "    specific = {}\n",
    "    \n",
    "    # Read every fasta file and save the identifiers in sets.\n",
    "    # list_of_set_identifiers contains the identifiers \n",
    "    for fasta_filename in fasta_filenames_list:\n",
    "        set_identifiers = set()\n",
    "        iterator = FASTA_iterator(fasta_filename)\n",
    "        for fasta_tuple in iterator: \n",
    "            set_identifiers.add(fasta_tuple[0].upper())\n",
    "        names.append(fasta_filename)\n",
    "        list_of_set_identifiers.append(set_identifiers)\n",
    "        specific.setdefault(fasta_filename,set_identifiers) \n",
    "    \n",
    "    # Collect informations about the frequency\n",
    "    frequency = add_list_of_set_to_frequency_count(list_of_set_identifiers)\n",
    "\n",
    "    #Initialize values\n",
    "    intersection = list_of_set_identifiers[0]\n",
    "    union = list_of_set_identifiers[0]\n",
    "    # Iterate all sets to compute unions, intersetions and find specific identifiers\n",
    "    for index in range(0,len(list_of_set_identifiers)):\n",
    "        #INTERSECT\n",
    "        intersection = intersection.intersection(list_of_set_identifiers[index])\n",
    "        #UNION\n",
    "        union = union.union(list_of_set_identifiers[index])\n",
    "        #SPECIFIC\n",
    "        # Only consider the other files\n",
    "        specific_set = set(list_of_set_identifiers[index])\n",
    "        for index_2 in range(0,len(list_of_set_identifiers)):\n",
    "            if index is not index_2: \n",
    "                specific_set.difference_update(list_of_set_identifiers[index_2])\n",
    "            specific[names[index]] = specific_set\n",
    "                \n",
    "    result_dictionary[\"intersection\"]= intersection\n",
    "    result_dictionary[\"union\"]= union\n",
    "    result_dictionary[\"frequency\"] = frequency\n",
    "    result_dictionary[\"specific\"] = specific\n",
    "    \n",
    "    return result_dictionary\n",
    "    "
   ]
  },
  {
   "cell_type": "code",
   "execution_count": 376,
   "metadata": {},
   "outputs": [],
   "source": [
    "fasta_filenames_list = [\"/Users/luisasantus/Desktop/PYT/PythonCourse/data/example_short.fasta\", \"/Users/luisasantus/Desktop/PYT/PythonCourse/data/example_short2.fasta\",\"/Users/luisasantus/Desktop/PYT/PythonCourse/data/example_short3.fasta\"]"
   ]
  },
  {
   "cell_type": "code",
   "execution_count": 377,
   "metadata": {},
   "outputs": [],
   "source": [
    "#fasta_filenames_list = [\"/Users/luisasantus/Desktop/PYT/PythonCourse/data/example_short.fasta\"]"
   ]
  },
  {
   "cell_type": "code",
   "execution_count": 14,
   "metadata": {},
   "outputs": [
    {
     "name": "stderr",
     "output_type": "stream",
     "text": [
      "UsageError: Cell magic `%%timeit(` not found.\n"
     ]
    }
   ],
   "source": [
    "file1 = \"/Users/luisasantus/Desktop/PYT/PythonCourse/data/sample_fasta_files/sample_fasta1.fa\"\n",
    "file2 = \"/Users/luisasantus/Desktop/PYT/PythonCourse/data/sample_fasta_files/sample_fasta2.fa\"\n",
    "file3 = \"/Users/luisasantus/Desktop/PYT/PythonCourse/data/sample_fasta_files/uniprot_sprot_short.fasta\"\n",
    "file_list = [file1,file2,file3]\n",
    "\n",
    "result = compare_fasta_file_identifiers(file_list)"
   ]
  },
  {
   "cell_type": "code",
   "execution_count": 23,
   "metadata": {},
   "outputs": [
    {
     "data": {
      "text/plain": [
       "125142"
      ]
     },
     "execution_count": 23,
     "metadata": {},
     "output_type": "execute_result"
    }
   ],
   "source": [
    "len(result[\"frequency\"])"
   ]
  },
  {
   "cell_type": "code",
   "execution_count": 28,
   "metadata": {},
   "outputs": [
    {
     "name": "stdout",
     "output_type": "stream",
     "text": [
      "124645\n"
     ]
    }
   ],
   "source": [
    "n = 0 \n",
    "for element in result[\"frequency\"]:\n",
    "    if result[\"frequency\"][element]  == 1: \n",
    "        n +=1\n",
    "print(n)"
   ]
  },
  {
   "cell_type": "code",
   "execution_count": 30,
   "metadata": {},
   "outputs": [
    {
     "name": "stdout",
     "output_type": "stream",
     "text": [
      "0\n",
      "1\n"
     ]
    }
   ],
   "source": [
    "for i in range(0,2):\n",
    "    print(i)"
   ]
  },
  {
   "cell_type": "code",
   "execution_count": null,
   "metadata": {},
   "outputs": [],
   "source": []
  }
 ],
 "metadata": {
  "kernelspec": {
   "display_name": "Python 3",
   "language": "python",
   "name": "python3"
  },
  "language_info": {
   "codemirror_mode": {
    "name": "ipython",
    "version": 3
   },
   "file_extension": ".py",
   "mimetype": "text/x-python",
   "name": "python",
   "nbconvert_exporter": "python",
   "pygments_lexer": "ipython3",
   "version": "3.6.5"
  }
 },
 "nbformat": 4,
 "nbformat_minor": 2
}
