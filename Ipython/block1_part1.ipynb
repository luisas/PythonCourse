{
 "cells": [
  {
   "cell_type": "code",
   "execution_count": 114,
   "metadata": {},
   "outputs": [],
   "source": [
    "import math"
   ]
  },
  {
   "cell_type": "code",
   "execution_count": 115,
   "metadata": {},
   "outputs": [],
   "source": [
    "# First Exercise \n",
    "def get_cone_volume(radius, height):\n",
    "        \"\"\"The function returns the volume of a cone given, in order, radius and height as input\"\"\"\n",
    "        return (height/3)*math.pi*(radius**2)"
   ]
  },
  {
   "cell_type": "code",
   "execution_count": 69,
   "metadata": {},
   "outputs": [],
   "source": [
    "# Calculate the factorial of a number n in a recursive way\n",
    "def recursive_factorial(n):\n",
    "    \"\"\"The function calculates the factorial of a number n in a recursive way. It takes the number n as an input. \"\"\"\n",
    "    if n == 0:\n",
    "        return 1\n",
    "    else:\n",
    "        return (n)* recursive_factorial(n-1)\n",
    "        "
   ]
  },
  {
   "cell_type": "code",
   "execution_count": 70,
   "metadata": {},
   "outputs": [],
   "source": [
    "# Calculate the factorial of a number n in an iterative way\n",
    "def factorial(n):\n",
    "    \"\"\" The function calculates the factorial of a number n in an iterative way. It takes the number n as an input. \"\"\"\n",
    "    if n==0:\n",
    "        return 1\n",
    "    else: \n",
    "        calculated_factorial = 1 \n",
    "        while n > 0: \n",
    "            calculated_factorial*=n\n",
    "            n-=1\n",
    "        return(calculated_factorial)"
   ]
  },
  {
   "cell_type": "code",
   "execution_count": 124,
   "metadata": {},
   "outputs": [],
   "source": [
    "def count_down(n, odd=False):\n",
    "    \"\"\" This function counts down the number by printing them, from the input n to 0.  The compulsory input is the number from which to count down. There is an optional input, which is a boolean: if set to True the funciton will print only Odd numbers.  \"\"\"\n",
    "    while n >=0 : \n",
    "        if( odd == True): \n",
    "            if (n%2)!= 0:\n",
    "                print(n)\n",
    "        else: \n",
    "            print(n)\n",
    "        n-=1"
   ]
  },
  {
   "cell_type": "code",
   "execution_count": 95,
   "metadata": {},
   "outputs": [],
   "source": [
    "def get_final_price(price, discount_percentage=10): \n",
    "    \"\"\"Return the final price after applying the discount percentage\"\"\"\n",
    "    return price-( price* discount_percentage / 100)"
   ]
  },
  {
   "cell_type": "code",
   "execution_count": null,
   "metadata": {},
   "outputs": [],
   "source": []
  }
 ],
 "metadata": {
  "kernelspec": {
   "display_name": "Python 3",
   "language": "python",
   "name": "python3"
  },
  "language_info": {
   "codemirror_mode": {
    "name": "ipython",
    "version": 3
   },
   "file_extension": ".py",
   "mimetype": "text/x-python",
   "name": "python",
   "nbconvert_exporter": "python",
   "pygments_lexer": "ipython3",
   "version": "3.6.5"
  }
 },
 "nbformat": 4,
 "nbformat_minor": 2
}
