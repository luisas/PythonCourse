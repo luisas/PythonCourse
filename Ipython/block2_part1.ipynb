{
 "cells": [
  {
   "cell_type": "code",
   "execution_count": 110,
   "metadata": {},
   "outputs": [],
   "source": [
    "#fasta_filename = \"/Users/luisasantus/Desktop/PYT/PythonCourse/data/example_short.fasta\""
   ]
  },
  {
   "cell_type": "code",
   "execution_count": 109,
   "metadata": {},
   "outputs": [],
   "source": [
    "class Protein(object):\n",
    "    \n",
    "    def __init__(self,identifier,sequence):\n",
    "        self.identifier = str(identifier)\n",
    "        self.sequence = str(sequence)\n",
    "        \n",
    "    def get_identifier(self):\n",
    "        return self.identifier\n",
    "    \n",
    "    def get_sequence(self):\n",
    "        return self.sequence\n",
    "    \n",
    "    def get_mw(self):\n",
    "        aminoacid_mw = {'A': 89.09, 'C': 121.16, 'E': 147.13, 'D': 133.1, 'G': 75.07, 'F': 165.19, 'I': 131.18, 'H': 155.16, 'K': 146.19, 'M': 149.21, 'L': 131.18, 'N': 132.12, 'Q': 146.15, 'P': 115.13, 'S': 105.09, 'R': 174.2, 'T': 119.12, 'W': 204.23, 'V': 117.15, 'Y': 181.19}\n",
    "        return float(sum(map(lambda aa: aminoacid_mw[aa] if aa in aminoacid_mw else 0, self.sequence)))\n",
    "    \n",
    "    def has_subsequence(self,subsequence_protein):\n",
    "        if subsequence_protein.get_sequence() in self.sequence: \n",
    "            return True\n",
    "        else: \n",
    "            return False\n",
    "        \n",
    "    def get_length(self):\n",
    "        return int(len(self.get_sequence()))"
   ]
  },
  {
   "cell_type": "code",
   "execution_count": 121,
   "metadata": {},
   "outputs": [],
   "source": [
    "def FASTA_iterator(fasta_filename): \n",
    "    file = open(fasta_filename, \"r\")\n",
    "    sequence =\"\"\n",
    "    identifier = file.readline().replace(\">\", \"\").strip()\n",
    "    for line in file: \n",
    "        if line.startswith(\">\"):\n",
    "            yield Protein(identifier, sequence)\n",
    "            sequence = \"\" \n",
    "            identifier = line.replace(\">\", \"\").strip()\n",
    "        else: \n",
    "            sequence+= line.strip()\n",
    "    file.close()\n",
    "    yield Protein(identifier, sequence)"
   ]
  }
 ],
 "metadata": {
  "kernelspec": {
   "display_name": "Python 3",
   "language": "python",
   "name": "python3"
  },
  "language_info": {
   "codemirror_mode": {
    "name": "ipython",
    "version": 3
   },
   "file_extension": ".py",
   "mimetype": "text/x-python",
   "name": "python",
   "nbconvert_exporter": "python",
   "pygments_lexer": "ipython3",
   "version": "3.6.5"
  }
 },
 "nbformat": 4,
 "nbformat_minor": 2
}
