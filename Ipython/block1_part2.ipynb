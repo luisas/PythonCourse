{
 "cells": [
  {
   "cell_type": "code",
   "execution_count": 307,
   "metadata": {},
   "outputs": [],
   "source": [
    "def count_sequences_by_residue_threshold(filename,residue,threshold=0.03):\n",
    "    \"\"\"\n",
    "    returns an integer corresponding to the total number of protein sequences having \n",
    "    a relative frequency higher or equal than a given threshold for a given residue.     \n",
    "    \"\"\"\n",
    "    count=0\n",
    "    length_of_current_protein = 0\n",
    "    frequency_of_residue = 0   \n",
    "    \n",
    "    with open(filename, \"r\") as fd:\n",
    "        #Skip the first line, not to have an error for the values of the frequency and total sum are still equal 0\n",
    "        next(fd)\n",
    "        for line in fd:\n",
    "            #New Protein found, save data for the old one!\n",
    "            if(line.startswith(\">\")):\n",
    "                    relative_frequency = frequency_of_residue/length_of_current_protein\n",
    "                    if( relative_frequency >= threshold ):\n",
    "                        count+=1\n",
    "                    # Re-initialize             \n",
    "                    length_of_current_protein = 0\n",
    "                    frequency_of_residue = 0\n",
    "                    continue\n",
    "                    \n",
    "            length_of_current_protein += len(line.strip())\n",
    "            frequency_of_residue += line.count(residue)   \n",
    "        fd.close()\n",
    "    \n",
    "    # Catch last case \n",
    "    relative_frequency = frequency_of_residue/length_of_current_protein\n",
    "    if( relative_frequency > threshold ):\n",
    "         count+=1\n",
    "    \n",
    "    return count\n",
    "    "
   ]
  },
  {
   "cell_type": "code",
   "execution_count": 308,
   "metadata": {},
   "outputs": [],
   "source": [
    "# ----- SOLUTION WITH BIOPYTHON -------\n",
    "\n",
    "#!pip install biopython\n",
    "# from Bio import SeqIO\n",
    "# def count_sequences_by_residue_threshold(filename,residue,threshold=0.03):\n",
    "#     count = 0 \n",
    "#     with open(filename, mode='r') as handle:\n",
    "#         for record in SeqIO.parse(handle, 'fasta'):\n",
    "#             if(record.seq.count(residue)/len(record.seq) > threshold) : count+=1\n",
    "#     return count"
   ]
  },
  {
   "cell_type": "code",
   "execution_count": 309,
   "metadata": {},
   "outputs": [],
   "source": [
    "from collections import OrderedDict\n",
    "def create_string(identifier ,residues, first_n,last_m):\n",
    "    first = residues[:first_n]\n",
    "    last = residues[-last_m:]    \n",
    "    frequencies=\"\"\n",
    "    header=\"\"\n",
    "    for charachter in OrderedDict.fromkeys(first+last):\n",
    "        frequencies+= header+charachter+\":\"+str(residues.count(charachter))\n",
    "        header=\",\"\n",
    "    output_string=identifier+\"\\t\"+first +\"\\t\"+last+\"\\t\"+frequencies+\"\\n\"\n",
    "    return output_string\n",
    "\n",
    "def print_sequence_tails(filename,output_filename,first_n=10,last_m=10):\n",
    "    \"\"\"\n",
    "    Given a protein FASTA file (filename), save on a file (output_filename) \n",
    "    the protein identifier, the first N-aminoacids, the last M-aminoacids and the absolute frequency \n",
    "    in the protein of each of the first N-aminoacids and the last M-aminoacids. The first three fields \n",
    "    must be separated by a tabulator, and the absolute frequency of the residues must have the format \n",
    "    RESIDUE:frequency and must be separated by comma. One protein by line. The first line must be a line with\n",
    "    a summary formatted as follows \n",
    "    \"\"\"\n",
    "    f = open(output_filename, \"w\")\n",
    "    # First line summary \n",
    "    n_proteins=1\n",
    "    identifier=\"\"\n",
    "    residues=\"\"\n",
    "    with open(filename, \"r\") as fd: \n",
    "        identifier=fd.readline().replace(\">\",\"\").strip()\n",
    "        for line in fd:\n",
    "            #New Protein found, print the old one!\n",
    "            if(line.startswith(\">\")):\n",
    "                n_proteins+=1\n",
    "                #Save \n",
    "                f.write( create_string(identifier, residues ,first_n,last_m))\n",
    "                # Re-initialize\n",
    "                identifier=line.replace(\">\",\"\").strip()\n",
    "                residues=\"\"\n",
    "            else:\n",
    "                residues+=line.strip()\n",
    "                \n",
    "    f.write( create_string(identifier, residues,first_n,last_m))\n",
    "    f.close()\n",
    "    \n",
    "    # Prepend the summary line \n",
    "    test_string=\"#The file \"+filename+\" contains \"+str(n_proteins)+\" proteins. Here we show the code of the protein, the first \"+str(first_n)+\" aminoacids of each protein and the last \"+str(last_m)+\" aminoacids.\\n\"\n",
    "    with open(output_filename, 'r') as original: data = original.read()\n",
    "    with open(output_filename, 'w') as modified: modified.write(test_string + data)\n"
   ]
  },
  {
   "cell_type": "code",
   "execution_count": 310,
   "metadata": {},
   "outputs": [],
   "source": [
    "#file=\"/Users/luisasantus/Desktop/PYT/PythonCourse/data/example.fasta\"\n",
    "#count_sequences_by_residue_threshold(file,\"C\",threshold=0.03)"
   ]
  },
  {
   "cell_type": "code",
   "execution_count": 312,
   "metadata": {},
   "outputs": [],
   "source": [
    "my_file=\"/Users/luisasantus/Desktop/PYT/PythonCourse/data/example.fasta\"\n",
    "my_file_out=\"/Users/luisasantus/Desktop/PYT/PythonCourse/Ipython/example_res.fasta\"\n",
    "print_sequence_tails(my_file,my_file_out,10,10)"
   ]
  },
  {
   "cell_type": "code",
   "execution_count": 284,
   "metadata": {},
   "outputs": [],
   "source": [
    "def print_sequence_tails_biopython(filename,output_filename,first_n=10,last_m=10):\n",
    "    \"\"\"\n",
    "    Given a protein FASTA file (filename), save on a file (output_filename) \n",
    "    the protein identifier, the first N-aminoacids, the last M-aminoacids and the absolute frequency \n",
    "    in the protein of each of the first N-aminoacids and the last M-aminoacids. The first three fields \n",
    "    must be separated by a tabulator, and the absolute frequency of the residues must have the format \n",
    "    RESIDUE:frequency and must be separated by comma. One protein by line. The first line must be a line with\n",
    "    a summary formatted as follows \n",
    "    \"\"\"\n",
    "    f = open(output_filename, \"w\")\n",
    "    identifier=\"\"\n",
    "    residues=\"\"\n",
    "    \n",
    "    with open(filename, \"r\") as fd: \n",
    "        identifier=fd.readline().replace(\">\",\"\").strip()\n",
    "        for record in SeqIO.parse(fd, \"fasta\"):\n",
    "                f.write( create_string(record.identifier, record.seq  ,first_n,last_m))\n",
    "    f.write( create_string(record.identifier, record.seq  ,first_n,last_m))\n",
    "    f.close()"
   ]
  },
  {
   "cell_type": "code",
   "execution_count": null,
   "metadata": {},
   "outputs": [],
   "source": []
  }
 ],
 "metadata": {
  "kernelspec": {
   "display_name": "Python 3",
   "language": "python",
   "name": "python3"
  },
  "language_info": {
   "codemirror_mode": {
    "name": "ipython",
    "version": 3
   },
   "file_extension": ".py",
   "mimetype": "text/x-python",
   "name": "python",
   "nbconvert_exporter": "python",
   "pygments_lexer": "ipython3",
   "version": "3.6.5"
  }
 },
 "nbformat": 4,
 "nbformat_minor": 2
}
